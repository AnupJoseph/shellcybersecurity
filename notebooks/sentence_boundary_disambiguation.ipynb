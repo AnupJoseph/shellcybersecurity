{
 "cells": [
  {
   "cell_type": "code",
   "execution_count": 6,
   "metadata": {},
   "outputs": [],
   "source": [
    "# Internal\n",
    "\n",
    "# External\n",
    "import pandas as pd\n",
    "from wtpsplit import WtP\n",
    "import spacy\n",
    "from spacy.pipeline.senter import DEFAULT_SENTER_MODEL\n",
    "\n",
    "# Project\n",
    "\n",
    "# Project Specific Configuration"
   ]
  },
  {
   "cell_type": "code",
   "execution_count": 5,
   "metadata": {},
   "outputs": [
    {
     "data": {
      "text/html": [
       "<div>\n",
       "<style scoped>\n",
       "    .dataframe tbody tr th:only-of-type {\n",
       "        vertical-align: middle;\n",
       "    }\n",
       "\n",
       "    .dataframe tbody tr th {\n",
       "        vertical-align: top;\n",
       "    }\n",
       "\n",
       "    .dataframe thead th {\n",
       "        text-align: right;\n",
       "    }\n",
       "</style>\n",
       "<table border=\"1\" class=\"dataframe\">\n",
       "  <thead>\n",
       "    <tr style=\"text-align: right;\">\n",
       "      <th></th>\n",
       "      <th>ID</th>\n",
       "      <th>Text</th>\n",
       "      <th>ContainsCode</th>\n",
       "      <th>CodeList</th>\n",
       "    </tr>\n",
       "  </thead>\n",
       "  <tbody>\n",
       "    <tr>\n",
       "      <th>0</th>\n",
       "      <td>1</td>\n",
       "      <td>Test-driven development (TDD) is a software de...</td>\n",
       "      <td></td>\n",
       "      <td></td>\n",
       "    </tr>\n",
       "    <tr>\n",
       "      <th>1</th>\n",
       "      <td>2</td>\n",
       "      <td>Software development is an exciting field that...</td>\n",
       "      <td>False</td>\n",
       "      <td></td>\n",
       "    </tr>\n",
       "    <tr>\n",
       "      <th>2</th>\n",
       "      <td>3</td>\n",
       "      <td>The development process often starts with a co...</td>\n",
       "      <td></td>\n",
       "      <td></td>\n",
       "    </tr>\n",
       "    <tr>\n",
       "      <th>3</th>\n",
       "      <td>4</td>\n",
       "      <td>Another important aspect of software developme...</td>\n",
       "      <td>True</td>\n",
       "      <td>git commit -m 'Initial commit'</td>\n",
       "    </tr>\n",
       "    <tr>\n",
       "      <th>4</th>\n",
       "      <td>5</td>\n",
       "      <td>In the world of software development, language...</td>\n",
       "      <td>False</td>\n",
       "      <td></td>\n",
       "    </tr>\n",
       "    <tr>\n",
       "      <th>5</th>\n",
       "      <td>6</td>\n",
       "      <td>There are many tools and frameworks available ...</td>\n",
       "      <td></td>\n",
       "      <td></td>\n",
       "    </tr>\n",
       "    <tr>\n",
       "      <th>6</th>\n",
       "      <td>7</td>\n",
       "      <td>In the world of software development, the most...</td>\n",
       "      <td></td>\n",
       "      <td></td>\n",
       "    </tr>\n",
       "    <tr>\n",
       "      <th>7</th>\n",
       "      <td>8</td>\n",
       "      <td>Software development is an intricate process t...</td>\n",
       "      <td>False</td>\n",
       "      <td></td>\n",
       "    </tr>\n",
       "    <tr>\n",
       "      <th>8</th>\n",
       "      <td>9</td>\n",
       "      <td>In this modern era, software development has i...</td>\n",
       "      <td>True</td>\n",
       "      <td>public class HelloWorld { public static void m...</td>\n",
       "    </tr>\n",
       "    <tr>\n",
       "      <th>9</th>\n",
       "      <td>10</td>\n",
       "      <td>In the realm of software development, one ofte...</td>\n",
       "      <td>False</td>\n",
       "      <td></td>\n",
       "    </tr>\n",
       "  </tbody>\n",
       "</table>\n",
       "</div>"
      ],
      "text/plain": [
       "   ID                                               Text ContainsCode  \\\n",
       "0   1  Test-driven development (TDD) is a software de...                \n",
       "1   2  Software development is an exciting field that...        False   \n",
       "2   3  The development process often starts with a co...                \n",
       "3   4  Another important aspect of software developme...         True   \n",
       "4   5  In the world of software development, language...        False   \n",
       "5   6  There are many tools and frameworks available ...                \n",
       "6   7  In the world of software development, the most...                \n",
       "7   8  Software development is an intricate process t...        False   \n",
       "8   9  In this modern era, software development has i...         True   \n",
       "9  10  In the realm of software development, one ofte...        False   \n",
       "\n",
       "                                            CodeList  \n",
       "0                                                     \n",
       "1                                                     \n",
       "2                                                     \n",
       "3                     git commit -m 'Initial commit'  \n",
       "4                                                     \n",
       "5                                                     \n",
       "6                                                     \n",
       "7                                                     \n",
       "8  public class HelloWorld { public static void m...  \n",
       "9                                                     "
      ]
     },
     "execution_count": 5,
     "metadata": {},
     "output_type": "execute_result"
    }
   ],
   "source": [
    "dataset= pd.read_json(\"../data/1_interim/datafinal.json\")\n",
    "dataset.head(10)"
   ]
  },
  {
   "cell_type": "code",
   "execution_count": 29,
   "metadata": {},
   "outputs": [],
   "source": [
    "sentence_list = dataset.Text.to_list()\n",
    "sentence_list = sentence_list[1:50]\n",
    "with open(\"./sentences.txt\",\"w\") as out:\n",
    "    for line in sentence_list:\n",
    "        out.write(line+\"\\n\")"
   ]
  },
  {
   "cell_type": "code",
   "execution_count": 9,
   "metadata": {},
   "outputs": [],
   "source": [
    "nlp = spacy.load(\"en_core_web_lg\")\n",
    "config = {\"model\": DEFAULT_SENTER_MODEL,}"
   ]
  },
  {
   "cell_type": "code",
   "execution_count": 21,
   "metadata": {},
   "outputs": [],
   "source": [
    "text = dataset.iloc[3,1]\n",
    "sentences = list(nlp(text).sents)\n",
    "sentences"
   ]
  },
  {
   "cell_type": "code",
   "execution_count": 23,
   "metadata": {},
   "outputs": [
    {
     "data": {
      "text/plain": [
       "1"
      ]
     },
     "execution_count": 23,
     "metadata": {},
     "output_type": "execute_result"
    }
   ],
   "source": [
    "code_sents = str(sentences[3])\n",
    "code = nlp(code_sents).sents"
   ]
  },
  {
   "cell_type": "code",
   "execution_count": 25,
   "metadata": {},
   "outputs": [
    {
     "data": {
      "text/plain": [
       "([In this modern era, software development has indeed become an essential skill.,\n",
       "  As more and more businesses are moving towards digitalization, the demand for skilled software developers is skyrocketing.,\n",
       "  However, software development is no easy task.,\n",
       "  It requires a deep understanding of programming languages, algorithms, data structures, and much more.\n",
       "  ,\n",
       "  When it comes to choosing a programming language, Java is often a preferred choice.,\n",
       "  Its 'Write Once, Run Anywhere' principle allows developers to run their code on any device that supports Java, without any modifications.,\n",
       "  Here's a simple Java code snippet that prints 'Hello, World!',\n",
       "  to the console.,\n",
       "  public class HelloWorld { public static void main(String,\n",
       "  [] args) { System.out.println('Hello, World!'); } }],\n",
       " 10)"
      ]
     },
     "execution_count": 25,
     "metadata": {},
     "output_type": "execute_result"
    }
   ],
   "source": [
    "text = dataset.iloc[8,1]\n",
    "sentences = list(nlp(text).sents)\n",
    "sentences,len(sentences)"
   ]
  },
  {
   "cell_type": "code",
   "execution_count": null,
   "metadata": {},
   "outputs": [],
   "source": []
  }
 ],
 "metadata": {
  "kernelspec": {
   "display_name": "shellcybersecurity-aQf0XaE0",
   "language": "python",
   "name": "python3"
  },
  "language_info": {
   "codemirror_mode": {
    "name": "ipython",
    "version": 3
   },
   "file_extension": ".py",
   "mimetype": "text/x-python",
   "name": "python",
   "nbconvert_exporter": "python",
   "pygments_lexer": "ipython3",
   "version": "3.10.6"
  },
  "orig_nbformat": 4
 },
 "nbformat": 4,
 "nbformat_minor": 2
}
